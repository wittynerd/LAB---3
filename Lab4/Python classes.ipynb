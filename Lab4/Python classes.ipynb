{
 "cells": [
  {
   "cell_type": "code",
   "execution_count": 244,
   "metadata": {},
   "outputs": [],
   "source": [
    "# class for people\n",
    "class Person:\n",
    "    def __init__(self,name,age):\n",
    "        self.name = name\n",
    "        self.age = age "
   ]
  },
  {
   "cell_type": "code",
   "execution_count": 245,
   "metadata": {},
   "outputs": [
    {
     "name": "stdout",
     "output_type": "stream",
     "text": [
      "Ashwin 21\n"
     ]
    }
   ],
   "source": [
    "p1 = Person(\"Ashwin\",21)\n",
    "print(p1.name,p1.age)"
   ]
  },
  {
   "cell_type": "code",
   "execution_count": 246,
   "metadata": {},
   "outputs": [],
   "source": [
    "# class for people\n",
    "class Person:\n",
    "    def __init__(self,name,age):\n",
    "        self.name = name\n",
    "        self.age = age\n",
    "        \n",
    "    def intro(self):\n",
    "        print(\"Hi! I'm \" + self.name)"
   ]
  },
  {
   "cell_type": "code",
   "execution_count": 247,
   "metadata": {},
   "outputs": [
    {
     "name": "stdout",
     "output_type": "stream",
     "text": [
      "Hi! I'm Ashwin\n"
     ]
    }
   ],
   "source": [
    "p1 = Person(\"Ashwin\",21)\n",
    "p1.intro()"
   ]
  },
  {
   "cell_type": "code",
   "execution_count": 248,
   "metadata": {},
   "outputs": [],
   "source": [
    "del p1.age"
   ]
  },
  {
   "cell_type": "code",
   "execution_count": 249,
   "metadata": {},
   "outputs": [
    {
     "name": "stdout",
     "output_type": "stream",
     "text": [
      "25\n"
     ]
    }
   ],
   "source": [
    "p1.age = 25\n",
    "print(p1.age)"
   ]
  },
  {
   "cell_type": "markdown",
   "metadata": {},
   "source": [
    "# Implementation of complex arithmetic using a complex class"
   ]
  },
  {
   "cell_type": "code",
   "execution_count": 250,
   "metadata": {},
   "outputs": [],
   "source": [
    "import numpy as np\n",
    "\n",
    "\n",
    "\n",
    "class Complex():\n",
    "    def __init__(self,x,y):\n",
    "        self.real = x\n",
    "        self.imag = y\n",
    "        \n",
    "#returns rectangular form of the complex number         \n",
    "    def rect(self):\n",
    "        return (self.real + 1j*self.imag)\n",
    "    \n",
    "#returns polar form of the complex number        \n",
    "    def polar(self,indegrees = 0):\n",
    "        mag = np.sqrt(self.real**2 + self.imag**2)\n",
    "        arg = np.arctan(self.imag/self.real)\n",
    "        if(indegrees):\n",
    "            arg = (arg*180)/np.pi\n",
    "        print(mag,'L',arg)\n",
    "  \n",
    " #returns the conjugate of the complex number \n",
    "    def conj(self):\n",
    "        self.imag *= -1\n",
    "        return self.rect()\n",
    "pass        \n",
    "        \n",
    "    \n",
    "    \n",
    " #Function to return the sum/difference of the two complex numbers        \n",
    "def add(z1,z2):\n",
    "     return (z1.real+z2.real)+(1j*(z1.imag+z2.imag))\n",
    "    \n",
    "    \n",
    " #Function to return the product of the two complex numbers    \n",
    "def mul(z1,z2,inpolar = 0):\n",
    "    a1 = z1.real\n",
    "    b1 = z1.imag \n",
    "    a2 = z2.real\n",
    "    b2 = z2.imag  \n",
    "    prod = (a1*a2-b1*b2)+(1j*(a1*b2+a2*b1))\n",
    "    if(inpolar == 0):\n",
    "        return prod\n",
    "    else:\n",
    "        z = Complex(a1*a2-b1*b2,a1*b2+a2*b1)\n",
    "        return z.polar()\n",
    "    \n",
    "    \n",
    "    #Function to return the quotient of the two complex numbers  \n",
    "def div(z1,z2):\n",
    "    z = mul(z1,z2.conj())\n",
    "    a2 = z2.real\n",
    "    b2 = z2.imag \n",
    "    z  /= (a2**2 + b2**2)\n",
    "    return z"
   ]
  },
  {
   "cell_type": "code",
   "execution_count": 251,
   "metadata": {},
   "outputs": [
    {
     "data": {
      "text/plain": [
       "(1+1j)"
      ]
     },
     "execution_count": 251,
     "metadata": {},
     "output_type": "execute_result"
    }
   ],
   "source": [
    "z1 = Complex(1,1)\n",
    "z1.rect()"
   ]
  },
  {
   "cell_type": "code",
   "execution_count": 252,
   "metadata": {},
   "outputs": [
    {
     "name": "stdout",
     "output_type": "stream",
     "text": [
      "1.4142135623730951 L 0.7853981633974483\n"
     ]
    }
   ],
   "source": [
    "z1.polar()"
   ]
  },
  {
   "cell_type": "code",
   "execution_count": 253,
   "metadata": {},
   "outputs": [
    {
     "name": "stdout",
     "output_type": "stream",
     "text": [
      "1.4142135623730951 L 45.0\n"
     ]
    }
   ],
   "source": [
    "z1.polar(indegrees = 'true')"
   ]
  },
  {
   "cell_type": "code",
   "execution_count": 254,
   "metadata": {},
   "outputs": [],
   "source": [
    "z2 = Complex(2,1)"
   ]
  },
  {
   "cell_type": "code",
   "execution_count": 255,
   "metadata": {},
   "outputs": [
    {
     "data": {
      "text/plain": [
       "-3"
      ]
     },
     "execution_count": 255,
     "metadata": {},
     "output_type": "execute_result"
    }
   ],
   "source": [
    "z3 = Complex(4,-3)\n",
    "z3.rect()\n",
    "z3.imag"
   ]
  },
  {
   "cell_type": "code",
   "execution_count": 256,
   "metadata": {},
   "outputs": [],
   "source": [
    "z1.rect()\n",
    "z2.rect()\n",
    "z = mul(z1,z2)\n"
   ]
  },
  {
   "cell_type": "code",
   "execution_count": 257,
   "metadata": {},
   "outputs": [
    {
     "data": {
      "text/plain": [
       "(1+3j)"
      ]
     },
     "execution_count": 257,
     "metadata": {},
     "output_type": "execute_result"
    }
   ],
   "source": [
    "z"
   ]
  },
  {
   "cell_type": "code",
   "execution_count": 258,
   "metadata": {},
   "outputs": [
    {
     "name": "stdout",
     "output_type": "stream",
     "text": [
      "3.1622776601683795 L 1.2490457723982544\n"
     ]
    }
   ],
   "source": [
    "z = mul(z1,z2,inpolar = 'true')"
   ]
  },
  {
   "cell_type": "code",
   "execution_count": 259,
   "metadata": {},
   "outputs": [
    {
     "name": "stdout",
     "output_type": "stream",
     "text": [
      "3.1622776601683795 L 1.2490457723982544\n"
     ]
    }
   ],
   "source": [
    "z4 = Complex(1,3)\n",
    "z4.polar()"
   ]
  },
  {
   "cell_type": "code",
   "execution_count": 260,
   "metadata": {},
   "outputs": [
    {
     "data": {
      "text/plain": [
       "(2+0j)"
      ]
     },
     "execution_count": 260,
     "metadata": {},
     "output_type": "execute_result"
    }
   ],
   "source": [
    "z1.rect()*z1.conj()"
   ]
  },
  {
   "cell_type": "code",
   "execution_count": 261,
   "metadata": {},
   "outputs": [
    {
     "data": {
      "text/plain": [
       "(0.2-0.6j)"
      ]
     },
     "execution_count": 261,
     "metadata": {},
     "output_type": "execute_result"
    }
   ],
   "source": [
    "div(z1,z2)"
   ]
  },
  {
   "cell_type": "code",
   "execution_count": null,
   "metadata": {},
   "outputs": [],
   "source": []
  }
 ],
 "metadata": {
  "kernelspec": {
   "display_name": "Python 3",
   "language": "python",
   "name": "python3"
  },
  "language_info": {
   "codemirror_mode": {
    "name": "ipython",
    "version": 3
   },
   "file_extension": ".py",
   "mimetype": "text/x-python",
   "name": "python",
   "nbconvert_exporter": "python",
   "pygments_lexer": "ipython3",
   "version": "3.6.5"
  }
 },
 "nbformat": 4,
 "nbformat_minor": 2
}
